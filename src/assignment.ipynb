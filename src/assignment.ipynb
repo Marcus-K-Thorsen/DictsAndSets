{
 "cells": [
  {
   "cell_type": "markdown",
   "metadata": {},
   "source": [
    "# 1. Assignment\n",
    "Model an organisation of employees, management and board of directors in 3 sets.\n",
    "\n",
    "Board of directors: Benny, Hans, Tine, Mille, Torben, Troels, Søren\n",
    "\n",
    "Management: Tine, Trunte, Rane\n",
    "\n",
    "Employees: Niels, Anna, Tine, Ole, Trunte, Bent, Rane, Allan, Stine, Claus, James, Lars\n",
    "\n",
    "- who in the board of directors is not an employee?\n",
    "- who in the board of directors is also an employee?\n",
    "- how many of the management is also member of the board?\n",
    "- All members of the managent also an employee\n",
    "- All members of the management also in the board?\n",
    "- Who is an employee, member of the management, and a member of the board?\n",
    "- Who of the employee is neither a memeber or the board or management?"
   ]
  },
  {
   "cell_type": "code",
   "execution_count": 20,
   "metadata": {},
   "outputs": [
    {
     "name": "stdout",
     "output_type": "stream",
     "text": [
      "Directors_not_employee: {'Søren', 'Benny', 'Mille', 'Torben', 'Troels', 'Hans'}\n",
      "Directors_is_employee: {'Tine'}\n",
      "Amount of Managers that is Directors: 1 Managers_is_directors: {'Tine'}\n",
      "Is all the Managers also in Employees: True\n",
      "Is all the Managers also in Directors: False\n",
      "Members_who_is_everything: {'Tine'}\n",
      "Members_who_is_only_employee: {'Claus', 'James', 'Lars', 'Anna', 'Allan', 'Niels', 'Bent', 'Ole', 'Stine'}\n"
     ]
    }
   ],
   "source": [
    "board_of_directors = {\"Benny\", \"Hans\", \"Tine\", \"Mille\", \"Torben\", \"Troels\", \"Søren\"}\n",
    "management = {\"Tine\", \"Trunte\", \"Rane\"}\n",
    "employees = {\"Niels\", \"Anna\", \"Tine\", \"Ole\", \"Trunte\", \"Bent\", \"Rane\", \"Allan\", \"Stine\", \"Claus\", \"James\", \"Lars\"}\n",
    "\n",
    "directors_not_emp = board_of_directors.difference(employees)\n",
    "print(\"Directors_not_employee:\", directors_not_emp)\n",
    "\n",
    "directors_is_emp = board_of_directors.intersection(employees)\n",
    "print(\"Directors_is_employee:\", directors_is_emp)\n",
    "\n",
    "managers_is_directors = management.intersection(board_of_directors)\n",
    "amount_of_managers_is_directors = len(managers_is_directors)\n",
    "print(f\"Amount of Managers that is Directors: {amount_of_managers_is_directors} Managers_is_directors:\", managers_is_directors)\n",
    "\n",
    "is_all_managers_employees = management.issubset(employees)\n",
    "print(\"Is all the Managers also in Employees:\", is_all_managers_employees)\n",
    "\n",
    "is_all_managers_directors = management.issubset(board_of_directors)\n",
    "print(\"Is all the Managers also in Directors:\", is_all_managers_directors)\n",
    "\n",
    "members_who_is_everything =  employees.intersection(management, board_of_directors)\n",
    "print(\"Members_who_is_everything:\", members_who_is_everything)\n",
    "\n",
    "members_who_is_only_employee =  employees.difference(management, board_of_directors)\n",
    "print(\"Members_who_is_only_employee:\", members_who_is_only_employee)"
   ]
  },
  {
   "cell_type": "markdown",
   "metadata": {},
   "source": [
    "# 2. Assignment\n",
    "Create a list of tuples from the folowing datastructure\n",
    "\n",
    "{‘a’: ‘Alpha’, ‘b’ : ‘Beta’, ‘g’: ‘Gamma’}"
   ]
  },
  {
   "cell_type": "code",
   "execution_count": 22,
   "metadata": {},
   "outputs": [
    {
     "name": "stdout",
     "output_type": "stream",
     "text": [
      "List of tuples: [('a', 'Alpha'), ('b', 'Beta'), ('g', 'Gamma')]\n"
     ]
    }
   ],
   "source": [
    "list_of_tuples = [('a', 'Alpha'), ('b', 'Beta'), ('g', 'Gamma')]\n",
    "print(\"List of tuples:\", list_of_tuples)"
   ]
  },
  {
   "cell_type": "markdown",
   "metadata": {},
   "source": [
    "# 3. Assignment\n",
    "From these 2 sets:\n",
    "\n",
    "{'a', 'e', 'i', 'o', 'u', 'y'}\n",
    "\n",
    "{'a', 'e', 'i', 'o', 'u', 'y', 'æ' ,'ø', 'å'}\n",
    "\n",
    "You should provide the solutions both using:\n",
    "\n",
    "- Set methods ( like: S1.union(S2) or S1.add(x)  ), and\n",
    "- Set oprators ( like: S1|S2 or S1&S2)\n",
    "\n",
    "So all solutions has to be solved twice. \n",
    "\n",
    "Create a:"
   ]
  },
  {
   "cell_type": "code",
   "execution_count": 35,
   "metadata": {},
   "outputs": [],
   "source": [
    "set_1 = {'a', 'e', 'i', 'o', 'u', 'y', 'q'}\n",
    "set_2 = {'a', 'e', 'i', 'o', 'u', 'y', 'æ' ,'ø', 'å'}"
   ]
  },
  {
   "cell_type": "markdown",
   "metadata": {},
   "source": [
    "Union\n",
    "\n",
    "![Alt text](image.png)"
   ]
  },
  {
   "cell_type": "code",
   "execution_count": 48,
   "metadata": {},
   "outputs": [
    {
     "name": "stdout",
     "output_type": "stream",
     "text": [
      "Union of set_1 and set_2: {'y', 'q', 'o', 'ø', 'i', 'æ', 'å', 'e', 'u', 'a'}\n",
      "Set Union Operator: {'y', 'q', 'o', 'ø', 'i', 'æ', 'å', 'e', 'u', 'a'}\n"
     ]
    }
   ],
   "source": [
    "set_union = set_1.union(set_2)\n",
    "print(\"Union of set_1 and set_2:\", set_union)\n",
    "set_union_operator = set_1|set_2\n",
    "print(\"Set Union Operator:\", set_union_operator)"
   ]
  },
  {
   "cell_type": "markdown",
   "metadata": {},
   "source": [
    "Symmetric Difference\n",
    "\n",
    "\n",
    "![Alt text](image-1.png)"
   ]
  },
  {
   "cell_type": "code",
   "execution_count": 49,
   "metadata": {},
   "outputs": [
    {
     "name": "stdout",
     "output_type": "stream",
     "text": [
      "Symmetric Difference of set_1 and set_2: {'æ', 'å', 'q', 'ø'}\n",
      "Set Difference Operator: {'æ', 'å', 'q', 'ø'}\n"
     ]
    }
   ],
   "source": [
    "set_symmetric_difference = set_1.symmetric_difference(set_2)\n",
    "print(\"Symmetric Difference of set_1 and set_2:\", set_symmetric_difference)\n",
    "set_symmetric_difference_operator = set_1^set_2\n",
    "print(\"Set Symmetric Difference Operator:\", set_symmetric_difference_operator)"
   ]
  },
  {
   "cell_type": "markdown",
   "metadata": {},
   "source": [
    "Difference\n",
    "\n",
    "![Alt text](image-2.png)"
   ]
  },
  {
   "cell_type": "code",
   "execution_count": 50,
   "metadata": {},
   "outputs": [
    {
     "name": "stdout",
     "output_type": "stream",
     "text": [
      "The Different values in set_1 from set_2: {'q'}\n",
      "Set Difference Operator: {'q'}\n"
     ]
    }
   ],
   "source": [
    "set_difference = set_1.difference(set_2)\n",
    "print(\"The Different values in set_1 from set_2:\", set_difference)\n",
    "set_difference_operator = set_1-set_2\n",
    "print(\"Set Difference Operator:\", set_difference_operator)"
   ]
  },
  {
   "cell_type": "markdown",
   "metadata": {},
   "source": [
    "Disjoint\n",
    "\n",
    "![Alt text](image-3.png)"
   ]
  },
  {
   "cell_type": "code",
   "execution_count": 54,
   "metadata": {},
   "outputs": [
    {
     "name": "stdout",
     "output_type": "stream",
     "text": [
      "The alike values set_1 and set_2 has joint together: {'y', 'e', 'u', 'o', 'a', 'i'}\n",
      "Set Disjoint Operator: {'y', 'e', 'u', 'o', 'a', 'i'}\n"
     ]
    }
   ],
   "source": [
    "set_disjoint = set_1.intersection(set_2)\n",
    "print(\"The alike values set_1 and set_2 has joint together:\", set_disjoint)\n",
    "set_disjoint_operator = set_1&set_2\n",
    "print(\"Set Disjoint Operator:\", set_disjoint_operator)"
   ]
  },
  {
   "cell_type": "markdown",
   "metadata": {},
   "source": [
    "# 4. Assignment\n",
    "\n",
    "Date Decoder.\n",
    "A date of the form 8-MAR-85 includes the name of the month, which must be translated to a number.\n",
    "\n",
    "Create a dict suitable for decoding month names to numbers.\n",
    "\n",
    "Create a function which uses string operations to split the date into 3 items using the \"-\" character.\n",
    "\n",
    "Translate the month, correct the year to include all of the digits.\n",
    "\n",
    "\n",
    "The function will accept a date in the \"dd-MMM-yy\" format and respond with a tuple of ( y , m , d )."
   ]
  },
  {
   "cell_type": "code",
   "execution_count": null,
   "metadata": {},
   "outputs": [],
   "source": []
  }
 ],
 "metadata": {
  "kernelspec": {
   "display_name": "Python 3",
   "language": "python",
   "name": "python3"
  },
  "language_info": {
   "codemirror_mode": {
    "name": "ipython",
    "version": 3
   },
   "file_extension": ".py",
   "mimetype": "text/x-python",
   "name": "python",
   "nbconvert_exporter": "python",
   "pygments_lexer": "ipython3",
   "version": "3.11.5"
  },
  "orig_nbformat": 4
 },
 "nbformat": 4,
 "nbformat_minor": 2
}
